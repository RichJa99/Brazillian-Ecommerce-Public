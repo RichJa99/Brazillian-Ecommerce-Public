{
 "cells": [
  {
   "cell_type": "code",
   "execution_count": null,
   "metadata": {},
   "outputs": [],
   "source": [
    "import pandas as pd\n",
    "import matplotlib.pyplot as plt\n",
    "import seaborn as sns"
   ]
  },
  {
   "cell_type": "markdown",
   "metadata": {},
   "source": [
    "## Load Dataset"
   ]
  },
  {
   "cell_type": "code",
   "execution_count": null,
   "metadata": {},
   "outputs": [
    {
     "data": {
      "text/html": [
       "<div>\n",
       "<style scoped>\n",
       "    .dataframe tbody tr th:only-of-type {\n",
       "        vertical-align: middle;\n",
       "    }\n",
       "\n",
       "    .dataframe tbody tr th {\n",
       "        vertical-align: top;\n",
       "    }\n",
       "\n",
       "    .dataframe thead th {\n",
       "        text-align: right;\n",
       "    }\n",
       "</style>\n",
       "<table border=\"1\" class=\"dataframe\">\n",
       "  <thead>\n",
       "    <tr style=\"text-align: right;\">\n",
       "      <th></th>\n",
       "      <th>order_id</th>\n",
       "      <th>order_status</th>\n",
       "      <th>order_purchase_timestamp</th>\n",
       "      <th>payment_sequential</th>\n",
       "      <th>payment_type</th>\n",
       "      <th>payment_installments</th>\n",
       "      <th>payment_value</th>\n",
       "    </tr>\n",
       "  </thead>\n",
       "  <tbody>\n",
       "    <tr>\n",
       "      <th>0</th>\n",
       "      <td>2e7a8482f6fb09756ca50c10d7bfc047</td>\n",
       "      <td>shipped</td>\n",
       "      <td>2016-09-04 21:15:19</td>\n",
       "      <td>1</td>\n",
       "      <td>credit_card</td>\n",
       "      <td>1</td>\n",
       "      <td>136.23</td>\n",
       "    </tr>\n",
       "    <tr>\n",
       "      <th>1</th>\n",
       "      <td>e5fa5a7210941f7d56d0208e4e071d35</td>\n",
       "      <td>canceled</td>\n",
       "      <td>2016-09-05 00:15:34</td>\n",
       "      <td>1</td>\n",
       "      <td>credit_card</td>\n",
       "      <td>3</td>\n",
       "      <td>75.06</td>\n",
       "    </tr>\n",
       "    <tr>\n",
       "      <th>2</th>\n",
       "      <td>809a282bbd5dbcabb6f2f724fca862ec</td>\n",
       "      <td>canceled</td>\n",
       "      <td>2016-09-13 15:24:19</td>\n",
       "      <td>1</td>\n",
       "      <td>credit_card</td>\n",
       "      <td>2</td>\n",
       "      <td>40.95</td>\n",
       "    </tr>\n",
       "    <tr>\n",
       "      <th>3</th>\n",
       "      <td>71303d7e93b399f5bcd537d124c0bcfa</td>\n",
       "      <td>canceled</td>\n",
       "      <td>2016-10-02 22:07:52</td>\n",
       "      <td>1</td>\n",
       "      <td>credit_card</td>\n",
       "      <td>1</td>\n",
       "      <td>109.34</td>\n",
       "    </tr>\n",
       "    <tr>\n",
       "      <th>4</th>\n",
       "      <td>3b697a20d9e427646d92567910af6d57</td>\n",
       "      <td>delivered</td>\n",
       "      <td>2016-10-03 09:44:50</td>\n",
       "      <td>1</td>\n",
       "      <td>boleto</td>\n",
       "      <td>1</td>\n",
       "      <td>45.46</td>\n",
       "    </tr>\n",
       "  </tbody>\n",
       "</table>\n",
       "</div>"
      ],
      "text/plain": [
       "                           order_id order_status order_purchase_timestamp  \\\n",
       "0  2e7a8482f6fb09756ca50c10d7bfc047      shipped      2016-09-04 21:15:19   \n",
       "1  e5fa5a7210941f7d56d0208e4e071d35     canceled      2016-09-05 00:15:34   \n",
       "2  809a282bbd5dbcabb6f2f724fca862ec     canceled      2016-09-13 15:24:19   \n",
       "3  71303d7e93b399f5bcd537d124c0bcfa     canceled      2016-10-02 22:07:52   \n",
       "4  3b697a20d9e427646d92567910af6d57    delivered      2016-10-03 09:44:50   \n",
       "\n",
       "   payment_sequential payment_type  payment_installments  payment_value  \n",
       "0                   1  credit_card                     1         136.23  \n",
       "1                   1  credit_card                     3          75.06  \n",
       "2                   1  credit_card                     2          40.95  \n",
       "3                   1  credit_card                     1         109.34  \n",
       "4                   1       boleto                     1          45.46  "
      ]
     },
     "execution_count": 2,
     "metadata": {},
     "output_type": "execute_result"
    }
   ],
   "source": [
    "df= pd.read_csv('C:\\\\Users\\\\Rija\\\\SHIFTING\\\\Kaggle-Brazilian E-Commerce Public Dataset by Olist\\\\payments_dataset.csv')\n",
    "df.head()"
   ]
  },
  {
   "cell_type": "code",
   "execution_count": null,
   "metadata": {},
   "outputs": [
    {
     "name": "stdout",
     "output_type": "stream",
     "text": [
      "<class 'pandas.core.frame.DataFrame'>\n",
      "RangeIndex: 103886 entries, 0 to 103885\n",
      "Data columns (total 7 columns):\n",
      " #   Column                    Non-Null Count   Dtype  \n",
      "---  ------                    --------------   -----  \n",
      " 0   order_id                  103886 non-null  object \n",
      " 1   order_status              103886 non-null  object \n",
      " 2   order_purchase_timestamp  103886 non-null  object \n",
      " 3   payment_sequential        103886 non-null  int64  \n",
      " 4   payment_type              103886 non-null  object \n",
      " 5   payment_installments      103886 non-null  int64  \n",
      " 6   payment_value             103886 non-null  float64\n",
      "dtypes: float64(1), int64(2), object(4)\n",
      "memory usage: 5.5+ MB\n"
     ]
    }
   ],
   "source": [
    "df.info()"
   ]
  },
  {
   "cell_type": "code",
   "execution_count": null,
   "metadata": {},
   "outputs": [
    {
     "data": {
      "text/plain": [
       "order_id                    0\n",
       "order_status                0\n",
       "order_purchase_timestamp    0\n",
       "payment_sequential          0\n",
       "payment_type                0\n",
       "payment_installments        0\n",
       "payment_value               0\n",
       "dtype: int64"
      ]
     },
     "execution_count": 4,
     "metadata": {},
     "output_type": "execute_result"
    }
   ],
   "source": [
    "# Check Null Value\n",
    "df.isna().sum()"
   ]
  },
  {
   "cell_type": "markdown",
   "metadata": {},
   "source": [
    "## Data Manipulation"
   ]
  },
  {
   "cell_type": "code",
   "execution_count": null,
   "metadata": {},
   "outputs": [
    {
     "data": {
      "text/plain": [
       "dtype('<M8[ns]')"
      ]
     },
     "execution_count": 5,
     "metadata": {},
     "output_type": "execute_result"
    }
   ],
   "source": [
    "# Transform order_purchase _timestamp columns to datetime\n",
    "df['order_purchase_timestamp']= pd.to_datetime(df['order_purchase_timestamp'])\n",
    "df['order_purchase_timestamp'].dtypes"
   ]
  },
  {
   "cell_type": "markdown",
   "metadata": {},
   "source": [
    "## EDA"
   ]
  },
  {
   "cell_type": "markdown",
   "metadata": {},
   "source": [
    "Questions:\n",
    "1. What type of payment do you use most often?\n",
    "2. Amount of value transactions for each type of payment?\n",
    "3. When do customers make transactions ?\n",
    "4. The percentage of the number of orders that were canceled based on the number of orders?\n",
    "5. How many customers make installments?"
   ]
  },
  {
   "cell_type": "code",
   "execution_count": null,
   "metadata": {},
   "outputs": [
    {
     "name": "stdout",
     "output_type": "stream",
     "text": [
      "Number of payment_type:\n",
      " credit_card    76795\n",
      "boleto         19784\n",
      "voucher         5775\n",
      "debit_card      1529\n",
      "not_defined        3\n",
      "Name: payment_type, dtype: int64 \n",
      "\n",
      "Percentage of payment_type(%):\n",
      " credit_card    73.92\n",
      "boleto         19.04\n",
      "voucher         5.56\n",
      "debit_card      1.47\n",
      "not_defined     0.00\n",
      "Name: payment_type, dtype: float64\n"
     ]
    },
    {
     "data": {
      "text/plain": [
       "<AxesSubplot:>"
      ]
     },
     "execution_count": 6,
     "metadata": {},
     "output_type": "execute_result"
    },
    {
     "data": {
      "image/png": "[encoded data removed]",
      "text/plain": [
       "<Figure size 432x288 with 1 Axes>"
      ]
     },
     "metadata": {
      "needs_background": "light"
     },
     "output_type": "display_data"
    }
   ],
   "source": [
    "#1. What type of payment do you use most often?\n",
    "payments= df['payment_type'].value_counts(ascending= False)\n",
    "print('Number of payment_type:\\n',payments,'\\n')\n",
    "\n",
    "# percentage each payment methode\n",
    "payments_percentage= round(payments/ sum(payments) * 100, 2)\n",
    "print('Percentage of payment_type(%):\\n',payments_percentage)\n",
    "\n",
    "#Visualization\n",
    "df['payment_type'].hist()"
   ]
  },
  {
   "cell_type": "markdown",
   "metadata": {},
   "source": [
    "Great, the majority of payment methods using credit cards amounted to 76795 (73.92%) of the total order, which means it is very effective to add promotions related to payment methods using credit cards instead of debit cards which only amounted to 1529, less than 2% of total orders. "
   ]
  },
  {
   "cell_type": "code",
   "execution_count": null,
   "metadata": {},
   "outputs": [
    {
     "name": "stdout",
     "output_type": "stream",
     "text": [
      "              count          sum  percentage_number_payment  \\\n",
      "payment_type                                                  \n",
      "credit_card   76795  12542084.19                      73.92   \n",
      "boleto        19784   2869361.27                      19.04   \n",
      "voucher        5775    379436.87                       5.56   \n",
      "debit_card     1529    217989.79                       1.47   \n",
      "not_defined       3         0.00                       0.00   \n",
      "\n",
      "              percentage_trans_value  \n",
      "payment_type                          \n",
      "credit_card                    78.34  \n",
      "boleto                         17.92  \n",
      "voucher                         2.37  \n",
      "debit_card                      1.36  \n",
      "not_defined                     0.00  \n"
     ]
    }
   ],
   "source": [
    "#2. Amount of value transactions for each type of payment?\n",
    "def compute_percentage(x, axis= 1):\n",
    "    pct = x/sum(x) * 100\n",
    "    return round(pct, 2)\n",
    "\n",
    "trans_value= df.groupby('payment_type')['payment_value'].agg(['count', 'sum']).sort_values(by='sum', ascending= False)\n",
    "trans_value['percentage_number_payment']= compute_percentage(trans_value['count'])\n",
    "trans_value['percentage_trans_value']= compute_percentage(trans_value['sum'])\n",
    "print(trans_value)"
   ]
  },
  {
   "cell_type": "markdown",
   "metadata": {},
   "source": [
    "interesting, from the total number of transactions for the most value is still same on the payment method using credit card and the order remains the same, but for the voucher and debit card methods it is found that the difference in the amount of payment value is relatively small compared to the difference in number of payment type use. This means that payments using vouchers are still effective because they are relatively more widely used than debit cards, but the payment value is still not optimal "
   ]
  },
  {
   "cell_type": "code",
   "execution_count": null,
   "metadata": {},
   "outputs": [
    {
     "name": "stdout",
     "output_type": "stream",
     "text": [
      "order_purchase_timestamp\n",
      "2016-09       3\n",
      "2016-10     342\n",
      "2016-12       1\n",
      "2017-01     850\n",
      "2017-02    1886\n",
      "2017-03    2837\n",
      "2017-04    2571\n",
      "2017-05    3944\n",
      "2017-06    3436\n",
      "2017-07    4317\n",
      "2017-08    4550\n",
      "2017-09    4516\n",
      "2017-10    4860\n",
      "2017-11    7863\n",
      "2017-12    5895\n",
      "2018-01    7563\n",
      "2018-02    6952\n",
      "2018-03    7512\n",
      "2018-04    7209\n",
      "2018-05    7135\n",
      "2018-06    6419\n",
      "2018-07    6507\n",
      "2018-08    6698\n",
      "2018-09      16\n",
      "2018-10       4\n",
      "Name: order_id, dtype: int64\n"
     ]
    },
    {
     "data": {
      "image/png": "[encoded data removed]",
      "text/plain": [
       "<Figure size 720x576 with 1 Axes>"
      ]
     },
     "metadata": {
      "needs_background": "light"
     },
     "output_type": "display_data"
    }
   ],
   "source": [
    "# 3. When do customers make transactions ?\n",
    "year= df['order_purchase_timestamp'].dt.year\n",
    "month= df['order_purchase_timestamp'].dt.month\n",
    "#monthyear= df['order_purchase_timestamp'].dt.to_period('M')\n",
    "monthyear= df['order_purchase_timestamp'].dt.strftime('%Y-%m')\n",
    "purchase_date= df.groupby(monthyear)['order_id'].count()\n",
    "print(purchase_date)\n",
    "\n",
    "#visualization based month year\n",
    "plt.figure(figsize=(10,8))\n",
    "sns.lineplot(data=purchase_date, x= purchase_date.index, y=purchase_date.values, markers=True)\n",
    "plt.ylabel('Number of orders')\n",
    "plt.xticks(rotation=45)\n",
    "plt.show()"
   ]
  },
  {
   "cell_type": "markdown",
   "metadata": {},
   "source": [
    "Nice, Data taken from September 2016 to October 2018. The graph shows a positive trend until November 2017 as well as being the month with the highest number of orders (7863) and suddenly fluctuating until August 2018. A drastic decline occurred in September- October 2018. "
   ]
  },
  {
   "cell_type": "code",
   "execution_count": null,
   "metadata": {},
   "outputs": [
    {
     "name": "stdout",
     "output_type": "stream",
     "text": [
      "order_purchase_timestamp\n",
      "0     2537\n",
      "1     1232\n",
      "2      532\n",
      "3      281\n",
      "4      215\n",
      "5      195\n",
      "6      514\n",
      "7     1269\n",
      "8     3081\n",
      "9     4954\n",
      "10    6439\n",
      "11    6875\n",
      "12    6332\n",
      "13    6768\n",
      "14    6848\n",
      "15    6684\n",
      "16    6971\n",
      "17    6371\n",
      "18    6049\n",
      "19    6229\n",
      "20    6503\n",
      "21    6526\n",
      "22    6146\n",
      "23    4335\n",
      "Name: order_id, dtype: int64\n"
     ]
    },
    {
     "data": {
      "image/png": "[encoded data removed]",
      "text/plain": [
       "<Figure size 720x576 with 1 Axes>"
      ]
     },
     "metadata": {
      "needs_background": "light"
     },
     "output_type": "display_data"
    }
   ],
   "source": [
    "hour= df['order_purchase_timestamp'].dt.hour\n",
    "purchase_time= df.groupby(hour)['order_id'].count()\n",
    "print(purchase_time)\n",
    "\n",
    "#visualization based Hour\n",
    "plt.figure(figsize=(10,8))\n",
    "sns.lineplot(data=purchase_time, x= purchase_time.index, y=purchase_time.values, markers=True)\n",
    "plt.ylabel('Number of orders')\n",
    "#plt.xticks(rotation=45)\n",
    "plt.show()"
   ]
  },
  {
   "cell_type": "markdown",
   "metadata": {},
   "source": [
    "based on the time the customer makes a payment, if you want to optimize the advertising strategy the right time to place an ad is at 10 am - 5 pm where the peak occurs at 4 pm."
   ]
  },
  {
   "cell_type": "code",
   "execution_count": null,
   "metadata": {},
   "outputs": [
    {
     "name": "stdout",
     "output_type": "stream",
     "text": [
      "delivered      100756\n",
      "shipped          1166\n",
      "canceled          664\n",
      "unavailable       649\n",
      "invoiced          325\n",
      "processing        319\n",
      "created             5\n",
      "approved            2\n",
      "Name: order_status, dtype: int64\n"
     ]
    }
   ],
   "source": [
    "# 4.The percentage of the number of orders that were canceled based on the number of orders\n",
    "status= df['order_status'].value_counts(ascending= False)\n",
    "print(status)"
   ]
  },
  {
   "cell_type": "code",
   "execution_count": null,
   "metadata": {},
   "outputs": [
    {
     "name": "stdout",
     "output_type": "stream",
     "text": [
      "payment_type\n",
      "credit_card    444\n",
      "voucher        115\n",
      "boleto          95\n",
      "debit_card       7\n",
      "not_defined      3\n",
      "dtype: int64\n"
     ]
    },
    {
     "data": {
      "text/plain": [
       "payment_type\n",
       "credit_card    66.87\n",
       "voucher        17.32\n",
       "boleto         14.31\n",
       "debit_card      1.05\n",
       "not_defined     0.45\n",
       "dtype: float64"
      ]
     },
     "execution_count": 30,
     "metadata": {},
     "output_type": "execute_result"
    }
   ],
   "source": [
    "canceled= df[df['order_status'] == 'canceled'].value_counts('payment_type')\n",
    "print(canceled)\n",
    "compute_percentage(canceled)"
   ]
  },
  {
   "cell_type": "markdown",
   "metadata": {},
   "source": [
    "customers with credit card payment methods had the largest percentage of 66.87% (444 of 664). but overall the number of cancels against the number of orders is relatively small (664 of 103886) "
   ]
  },
  {
   "cell_type": "code",
   "execution_count": null,
   "metadata": {},
   "outputs": [
    {
     "name": "stdout",
     "output_type": "stream",
     "text": [
      "Distribution of Installments: \n",
      " payment_installments\n",
      "0         2\n",
      "1     52546\n",
      "2     12413\n",
      "3     10461\n",
      "4      7098\n",
      "5      5239\n",
      "6      3920\n",
      "7      1626\n",
      "8      4268\n",
      "9       644\n",
      "10     5328\n",
      "11       23\n",
      "12      133\n",
      "13       16\n",
      "14       15\n",
      "15       74\n",
      "16        5\n",
      "17        8\n",
      "18       27\n",
      "20       17\n",
      "21        3\n",
      "22        1\n",
      "23        1\n",
      "24       18\n",
      "Name: order_id, dtype: int64\n"
     ]
    },
    {
     "data": {
      "text/plain": [
       "<AxesSubplot:>"
      ]
     },
     "execution_count": 37,
     "metadata": {},
     "output_type": "execute_result"
    },
    {
     "data": {
      "image/png": "[encoded data removed]",
      "text/plain": [
       "<Figure size 432x288 with 1 Axes>"
      ]
     },
     "metadata": {
      "needs_background": "light"
     },
     "output_type": "display_data"
    }
   ],
   "source": [
    "# 5. How many customers make installments?\n",
    "installments= df.groupby('payment_installments')['order_id'].count()\n",
    "print('Distribution of Installments: \\n', installments)\n",
    "df['payment_installments'].hist(bins=24)"
   ]
  },
  {
   "cell_type": "markdown",
   "metadata": {},
   "source": [
    "As we know,  payment installments is more than once. the histogram graph shows a downtrend from 2 to 7. while at 8 and 10 installments there are relatively more enthusiasts. "
   ]
  }
 ],
 "metadata": {
  "interpreter": {
   "hash": "002d09ec4a0a7bdd0a19985ef08c844b97af36bd358b0a20fbd9d94a35e89247"
  },
  "kernelspec": {
   "display_name": "Python 3.9.6 64-bit",
   "language": "python",
   "name": "python3"
  },
  "language_info": {
   "codemirror_mode": {
    "name": "ipython",
    "version": 3
   },
   "file_extension": ".py",
   "mimetype": "text/x-python",
   "name": "python",
   "nbconvert_exporter": "python",
   "pygments_lexer": "ipython3",
   "version": "3.9.6"
  },
  "orig_nbformat": 4
 },
 "nbformat": 4,
 "nbformat_minor": 2
}
